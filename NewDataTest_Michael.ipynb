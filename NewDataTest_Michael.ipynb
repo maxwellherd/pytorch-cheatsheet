{
  "nbformat": 4,
  "nbformat_minor": 0,
  "metadata": {
    "colab": {
      "provenance": [],
      "include_colab_link": true
    },
    "kernelspec": {
      "name": "python3",
      "display_name": "Python 3"
    },
    "language_info": {
      "name": "python"
    },
    "accelerator": "GPU",
    "gpuClass": "standard"
  },
  "cells": [
    {
      "cell_type": "markdown",
      "metadata": {
        "id": "view-in-github",
        "colab_type": "text"
      },
      "source": [
        "<a href=\"https://colab.research.google.com/github/maxwellherd/pytorch-cheatsheet/blob/master/NewDataTest_Michael.ipynb\" target=\"_parent\"><img src=\"https://colab.research.google.com/assets/colab-badge.svg\" alt=\"Open In Colab\"/></a>"
      ]
    },
    {
      "cell_type": "code",
      "source": [
        "!pip3 install opendatasets\n",
        "!pip3 install pandas"
      ],
      "metadata": {
        "id": "UHQLsI_p1LUm",
        "colab": {
          "base_uri": "https://localhost:8080/"
        },
        "outputId": "f397f9a9-a444-44d0-9b84-780ba8b946ee"
      },
      "execution_count": null,
      "outputs": [
        {
          "output_type": "stream",
          "name": "stdout",
          "text": [
            "Looking in indexes: https://pypi.org/simple, https://us-python.pkg.dev/colab-wheels/public/simple/\n",
            "Collecting opendatasets\n",
            "  Downloading opendatasets-0.1.22-py3-none-any.whl (15 kB)\n",
            "Requirement already satisfied: click in /usr/local/lib/python3.9/dist-packages (from opendatasets) (8.1.3)\n",
            "Requirement already satisfied: kaggle in /usr/local/lib/python3.9/dist-packages (from opendatasets) (1.5.13)\n",
            "Requirement already satisfied: tqdm in /usr/local/lib/python3.9/dist-packages (from opendatasets) (4.65.0)\n",
            "Requirement already satisfied: requests in /usr/local/lib/python3.9/dist-packages (from kaggle->opendatasets) (2.27.1)\n",
            "Requirement already satisfied: python-dateutil in /usr/local/lib/python3.9/dist-packages (from kaggle->opendatasets) (2.8.2)\n",
            "Requirement already satisfied: urllib3 in /usr/local/lib/python3.9/dist-packages (from kaggle->opendatasets) (1.26.15)\n",
            "Requirement already satisfied: python-slugify in /usr/local/lib/python3.9/dist-packages (from kaggle->opendatasets) (8.0.1)\n",
            "Requirement already satisfied: certifi in /usr/local/lib/python3.9/dist-packages (from kaggle->opendatasets) (2022.12.7)\n",
            "Requirement already satisfied: six>=1.10 in /usr/local/lib/python3.9/dist-packages (from kaggle->opendatasets) (1.16.0)\n",
            "Requirement already satisfied: text-unidecode>=1.3 in /usr/local/lib/python3.9/dist-packages (from python-slugify->kaggle->opendatasets) (1.3)\n",
            "Requirement already satisfied: charset-normalizer~=2.0.0 in /usr/local/lib/python3.9/dist-packages (from requests->kaggle->opendatasets) (2.0.12)\n",
            "Requirement already satisfied: idna<4,>=2.5 in /usr/local/lib/python3.9/dist-packages (from requests->kaggle->opendatasets) (3.4)\n",
            "Installing collected packages: opendatasets\n",
            "Successfully installed opendatasets-0.1.22\n",
            "Looking in indexes: https://pypi.org/simple, https://us-python.pkg.dev/colab-wheels/public/simple/\n",
            "Requirement already satisfied: pandas in /usr/local/lib/python3.9/dist-packages (1.4.4)\n",
            "Requirement already satisfied: numpy>=1.18.5 in /usr/local/lib/python3.9/dist-packages (from pandas) (1.22.4)\n",
            "Requirement already satisfied: pytz>=2020.1 in /usr/local/lib/python3.9/dist-packages (from pandas) (2022.7.1)\n",
            "Requirement already satisfied: python-dateutil>=2.8.1 in /usr/local/lib/python3.9/dist-packages (from pandas) (2.8.2)\n",
            "Requirement already satisfied: six>=1.5 in /usr/local/lib/python3.9/dist-packages (from python-dateutil>=2.8.1->pandas) (1.16.0)\n"
          ]
        }
      ]
    },
    {
      "cell_type": "code",
      "source": [
        "import numpy as np\n",
        "import time\n",
        "import torch\n",
        "import torch.nn as nn\n",
        "import torch.nn.functional as F\n",
        "import torch.optim as optim\n",
        "import torchvision\n",
        "from torch.utils.data.sampler import SubsetRandomSampler\n",
        "import torchvision.transforms as transforms\n",
        "import matplotlib.pyplot as plt\n",
        "\n",
        "torch.manual_seed(1)"
      ],
      "metadata": {
        "colab": {
          "base_uri": "https://localhost:8080/"
        },
        "id": "j-p2l4Z6bpL4",
        "outputId": "5849f32e-92bd-4eb6-c76b-337b341e31f1"
      },
      "execution_count": null,
      "outputs": [
        {
          "output_type": "execute_result",
          "data": {
            "text/plain": [
              "<torch._C.Generator at 0x7fdcac08e3b0>"
            ]
          },
          "metadata": {},
          "execution_count": 2
        }
      ]
    },
    {
      "cell_type": "code",
      "source": [
        "print(torch.cuda.is_available())"
      ],
      "metadata": {
        "id": "O8GuHqWBiP8i"
      },
      "execution_count": null,
      "outputs": []
    },
    {
      "cell_type": "code",
      "source": [
        "import os \n",
        "root = os.getcwd() + '/geolocation-geoguessr-images-50k/compressed_dataset'\n",
        "kaggleDict = {}\n",
        "for subdir, dirs, files in os.walk(root):    \n",
        "    for file in files:\n",
        "        key, value = os.path.basename(subdir), file\n",
        "        kaggleDict.setdefault(key, []).append(value)"
      ],
      "metadata": {
        "id": "3ZwZfWPjb7Lu"
      },
      "execution_count": null,
      "outputs": []
    },
    {
      "cell_type": "code",
      "source": [
        "import random\n",
        "random.seed(10)\n",
        "\n",
        "for country in kaggleDict:\n",
        "  if len(kaggleDict[country]) > 2000:\n",
        "         print(country)\n",
        "# Brazil, United States, United Kingdom, France and Japan have samples over 2000\n",
        "brazilSet = kaggleDict['Brazil']\n",
        "franceSet = kaggleDict['France']\n",
        "ukSet = kaggleDict['United Kingdom']\n",
        "japanSet = kaggleDict['Japan']\n",
        "usSet = kaggleDict['United States']"
      ],
      "metadata": {
        "id": "nJ2JG5b4clo4"
      },
      "execution_count": null,
      "outputs": []
    },
    {
      "cell_type": "code",
      "source": [
        "for img in range(len(brazilSet)):\n",
        "  brazilSet[img] = root+ '/Brazil/'+ brazilSet[img]\n",
        "for img in range(len(franceSet)):\n",
        "  franceSet[img] = root+ '/France/'+ franceSet[img]\n",
        "for img in range(len(ukSet)):\n",
        "  ukSet[img] = root+ '/United Kingdom/'+ ukSet[img]\n",
        "for img in range(len(japanSet)):\n",
        "  japanSet[img] = root+ '/Japan/'+ japanSet[img]\n",
        "for img in range(len(usSet)):\n",
        "  usSet[img] = root+ '/United States/'+ usSet[img]\n",
        "  \n",
        "brazilFiles = random.sample(brazilSet, 2000)\n",
        "franceFiles = random.sample(franceSet, 2000)\n",
        "ukFiles = random.sample(ukSet, 2000)\n",
        "japanFiles = random.sample(japanSet, 2000)\n",
        "usFiles = random.sample(usSet, 2000)"
      ],
      "metadata": {
        "id": "g6g86FI1cmKF"
      },
      "execution_count": null,
      "outputs": []
    },
    {
      "cell_type": "code",
      "source": [
        "import torch\n",
        "import glob\n",
        "from torch.utils.data import random_split\n",
        "\n",
        "countries = ['Brazil','France','United Kingdom', 'Japan', 'United States']\n",
        "num_class = len(countries)\n",
        "\n",
        "img_files = brazilFiles+franceFiles+ukFiles+japanFiles+usFiles\n",
        "\n",
        "# img_files = glob.glob(root+'/*/*.jpg',recursive=True)\n",
        "print(len(img_files))\n",
        "idx_to_class = {i:j for i, j in enumerate(countries)}\n",
        "print(idx_to_class)\n",
        "class_to_idx = {value:key for key,value in idx_to_class.items()}\n",
        "print(class_to_idx)\n",
        "\n",
        "#random split\n",
        "train_idx,val_idx,test_idx=random_split(img_files, [0.6, 0.2, 0.2], generator=torch.Generator().manual_seed(42))\n",
        "    \n",
        "train_list=[img_files[i] for i in train_idx.indices]\n",
        "test_list=[img_files[i] for i in test_idx.indices]\n",
        "val_list=[img_files[i] for i in val_idx.indices]\n",
        "\n",
        "print(len(train_idx.indices),len(test_idx.indices),len(val_idx.indices))\n",
        "print(len(train_list),len(test_list),len(val_list))   "
      ],
      "metadata": {
        "id": "sCTr1MngcpRl"
      },
      "execution_count": null,
      "outputs": []
    },
    {
      "cell_type": "code",
      "source": [
        "from google.colab import drive\n",
        "drive.mount('/content/gdrive')\n",
        "\n",
        "import os\n",
        "geoguessr_data = '/content/geoguessr_data'\n",
        "\n",
        "if not os.path.isdir(geoguessr_data):\n",
        "  os.makedirs(geoguessr_data)\n",
        "\n",
        "train_path = geoguessr_data+'/train'\n",
        "test_path = geoguessr_data+'/test'\n",
        "valid_path = geoguessr_data+'/val'\n",
        "\n",
        "if not os.path.isdir(train_path):\n",
        "  os.makedirs(train_path)\n",
        "\n",
        "if not os.path.isdir(test_path):\n",
        "  os.makedirs(test_path)\n",
        "\n",
        "if not os.path.isdir(valid_path):\n",
        "  os.makedirs(valid_path)"
      ],
      "metadata": {
        "colab": {
          "base_uri": "https://localhost:8080/"
        },
        "id": "0r--NE7JcvVm",
        "outputId": "226a3de8-4c3e-46c7-a737-7c7ba5b6db78"
      },
      "execution_count": null,
      "outputs": [
        {
          "output_type": "stream",
          "name": "stdout",
          "text": [
            "Mounted at /content/gdrive\n"
          ]
        }
      ]
    },
    {
      "cell_type": "code",
      "source": [
        "import shutil\n",
        "root_dir = '/content/gdrive/MyDrive/Colab Notebooks/geoguessr_solver/geoguessr_data'\n",
        "\n",
        "for subdir, dirs, files in os.walk(root):\n",
        "    for file in files:\n",
        "        if 'Brazil' in subdir or 'France' in subdir or 'United Kingdom' in subdir or 'Japan' in subdir or 'United States' in subdir:\n",
        "          for i in range(len(train_list)):\n",
        "            if train_list[i] == os.path.join(subdir,file):\n",
        "              if 'Brazil' in subdir:\n",
        "                class_type = 'Brazil'\n",
        "              elif 'France' in subdir:\n",
        "                class_type = 'France'\n",
        "              elif 'United Kingdom' in subdir:\n",
        "                class_type = 'United Kingdom'\n",
        "              elif 'Japan' in subdir:\n",
        "                class_type = 'Japan'\n",
        "              else:\n",
        "                class_type='United States'\n",
        "\n",
        "              path_name = os.path.join(train_path,class_type)\n",
        "\n",
        "              if not os.path.exists(path_name):\n",
        "                os.makedirs(path_name)\n",
        "              shutil.copy(train_list[i], path_name)\n",
        "\n",
        "          for i in range(len(test_list)):\n",
        "            if test_list[i] == os.path.join(subdir,file):\n",
        "              if 'Brazil' in subdir:\n",
        "                class_type = 'Brazil'\n",
        "              elif 'France' in subdir:\n",
        "                class_type = 'France'\n",
        "              elif 'United Kingdom' in subdir:\n",
        "                class_type = 'United Kingdom'\n",
        "              elif 'Japan' in subdir:\n",
        "                class_type = 'Japan'\n",
        "              else:\n",
        "                class_type='United States'\n",
        "              path_name = os.path.join(test_path,class_type)\n",
        "\n",
        "              if not os.path.exists(path_name):\n",
        "                os.makedirs(path_name)\n",
        "              shutil.copy(test_list[i], path_name)\n",
        "\n",
        "          for i in range(len(val_list)):\n",
        "            if val_list[i] == os.path.join(subdir,file):\n",
        "              if 'Brazil' in subdir:\n",
        "                class_type = 'Brazil'\n",
        "              elif 'France' in subdir:\n",
        "                class_type = 'France'\n",
        "              elif 'United Kingdom' in subdir:\n",
        "                class_type = 'United Kingdom'\n",
        "              elif 'Japan' in subdir:\n",
        "                class_type = 'Japan'\n",
        "              else:\n",
        "                class_type='United States'\n",
        "              path_name = os.path.join(valid_path,class_type)\n",
        "\n",
        "              if not os.path.exists(path_name):\n",
        "                os.makedirs(path_name)\n",
        "              shutil.copy(val_list[i], path_name)"
      ],
      "metadata": {
        "id": "7MHuaBkVc84O"
      },
      "execution_count": null,
      "outputs": []
    },
    {
      "cell_type": "code",
      "source": [
        "import torchvision.datasets as datasets\n",
        "\n",
        "transform = transforms.Compose([transforms.Resize((224,224)), transforms.ToTensor()])\n",
        "\n",
        "train_dataset = datasets.ImageFolder(root=train_path, transform=transform)\n",
        "val_dataset = datasets.ImageFolder(root=valid_path, transform=transform)\n",
        "test_dataset = datasets.ImageFolder(root=test_path, transform=transform)\n",
        "\n",
        "train_loader = torch.utils.data.DataLoader(train_dataset, batch_size=27, shuffle=True)\n",
        "val_loader = torch.utils.data.DataLoader(val_dataset, batch_size=27, shuffle=True)\n",
        "test_loader = torch.utils.data.DataLoader(test_dataset, batch_size=27, shuffle=False)\n",
        "\n",
        "# Get the class names from the dataset\n",
        "class_names = train_dataset.classes"
      ],
      "metadata": {
        "id": "bYcAUcQHdn5F"
      },
      "execution_count": null,
      "outputs": []
    },
    {
      "cell_type": "code",
      "source": [
        "print(class_names)"
      ],
      "metadata": {
        "colab": {
          "base_uri": "https://localhost:8080/"
        },
        "id": "mw9MYRvHdvgV",
        "outputId": "a6eafbf9-4d5c-4bf5-ba37-913374c7135e"
      },
      "execution_count": null,
      "outputs": [
        {
          "output_type": "stream",
          "name": "stdout",
          "text": [
            "['Brazil', 'France', 'Japan', 'United Kingdom', 'United States']\n"
          ]
        }
      ]
    },
    {
      "cell_type": "code",
      "source": [
        "def get_model_name(name, batch_size, learning_rate, epoch):\n",
        "    \"\"\" Generate a name for the model consisting of all the hyperparameter values\n",
        "\n",
        "    Args:\n",
        "        config: Configuration object containing the hyperparameters\n",
        "    Returns:\n",
        "        path: A string with the hyperparameter name and value concatenated\n",
        "    \"\"\"\n",
        "    path = \"model_{0}_bs{1}_lr{2}_epoch{3}\".format(name,\n",
        "                                                   batch_size,\n",
        "                                                   learning_rate,\n",
        "                                                   epoch)\n",
        "    return path"
      ],
      "metadata": {
        "id": "rLNWQoX-e9Me"
      },
      "execution_count": null,
      "outputs": []
    },
    {
      "cell_type": "code",
      "source": [
        "def get_accuracy(model, data_loader):\n",
        "    correct = 0\n",
        "    total = 0\n",
        "    for imgs, labels in data_loader:\n",
        "        \n",
        "        if torch.cuda.is_available():\n",
        "          imgs = imgs.cuda()\n",
        "          labels = labels.cuda()\n",
        "\n",
        "        output = model(imgs)\n",
        "        pred = output.max(1, keepdim=True)[1]\n",
        "        correct += pred.eq(labels.view_as(pred)).sum().item()\n",
        "        total += imgs.shape[0]\n",
        "    return correct / total"
      ],
      "metadata": {
        "id": "jEb7iEove-Se"
      },
      "execution_count": null,
      "outputs": []
    },
    {
      "cell_type": "code",
      "source": [
        "def train(model, train_loader, val_loader, batch_size=27, learning_rate = 0.001, num_epochs=30):\n",
        "    ########################################################################\n",
        "    # Fixed PyTorch random seed for reproducible result\n",
        "    torch.manual_seed(1000)\n",
        "    ########################################################################\n",
        "    # Define the Loss function and optimizer\n",
        "    # The loss function will be Cross Entropy Loss and the optimizer will be Adam\n",
        "    # These two were selected because:\n",
        "    # Cross Entropy Loss - Penalizes the model more heavily when it makes larger errors, which is desirable for image classification\n",
        "    # Adam - Converges faster than other optimization algorithms, which is important for large-scale image classification\n",
        "    criterion = nn.CrossEntropyLoss()\n",
        "    optimizer = optim.Adam(model.parameters(), lr=learning_rate)\n",
        "    ########################################################################\n",
        "    # Set up some numpy arrays to store the training/test accuracy\n",
        "    train_acc = np.zeros(num_epochs)\n",
        "    val_acc = np.zeros(num_epochs)\n",
        "    ########################################################################\n",
        "    # Train the network\n",
        "    # Loop over the data iterator and sample a new batch of training data\n",
        "    # Get the output from the network, and optimize our loss function.\n",
        "    start_time = time.time()\n",
        "    print (\"Training Started...\")\n",
        "    n = 0 # Iteration number\n",
        "    for epoch in range(num_epochs):\n",
        "        total_train_loss = 0.0\n",
        "        total_train_err = 0.0\n",
        "        total_images = 0\n",
        "        for imgs, labels in iter(train_loader):\n",
        "            \n",
        "            if torch.cuda.is_available():\n",
        "              imgs = imgs.cuda()\n",
        "              labels = labels.cuda()\n",
        "\n",
        "            # Forward pass, backward pass, and optimize\n",
        "            out = model(imgs)\n",
        "            loss = criterion(out, labels)\n",
        "            loss.backward()\n",
        "            optimizer.step()\n",
        "            # Zero the parameter gradients\n",
        "            optimizer.zero_grad()\n",
        "            n += 1          \n",
        "        \n",
        "        # Get accuracy\n",
        "        train_acc[epoch] = get_accuracy(model, train_loader)\n",
        "        val_acc[epoch] = get_accuracy(model, val_loader)\n",
        "\n",
        "        print((\"Epoch {}: Train acc: {} |\" + \"Validation acc: {}\").format(epoch, train_acc[epoch], val_acc[epoch]))\n",
        "\n",
        "        model_path = get_model_name(model.name, batch_size, learning_rate, epoch)\n",
        "        torch.save(model.state_dict(), model_path)\n",
        "            \n",
        "    epochs = np.arange(1, num_epochs + 1)\n",
        "\n",
        "    print('Finished Training')\n",
        "    end_time = time.time()\n",
        "    elapsed_time = end_time - start_time\n",
        "    print(\"Total time elapsed: {:.2f} seconds\".format(elapsed_time))\n",
        "    \n",
        "    return train_acc, val_acc, epochs"
      ],
      "metadata": {
        "id": "B_oWvQHoe_kF"
      },
      "execution_count": null,
      "outputs": []
    },
    {
      "cell_type": "code",
      "source": [
        "def plot_curve(acc, epochs, curve_name):\n",
        "  plt.plot(epochs, acc)\n",
        "  plt.title(curve_name + \" Curve (Default Parameters)\")\n",
        "  plt.xlabel(\"Epochs\")\n",
        "  plt.ylabel(curve_name + \" Accuracy\")\n",
        "  plt.show()\n",
        "  return"
      ],
      "metadata": {
        "id": "kZHmWli2fG0N"
      },
      "execution_count": null,
      "outputs": []
    },
    {
      "cell_type": "code",
      "source": [
        "class MobileNet(nn.Module):\n",
        "    def __init__(self, num_classes=5):\n",
        "        super(MobileNet, self).__init__()\n",
        "        self.name = \"mobilenet\"\n",
        "        mobilenet = models.mobilenet_v2(pretrained=True)\n",
        "        self.features = mobilenet.features\n",
        "        self.classifier = nn.Sequential(\n",
        "            nn.Dropout(p=0.2),\n",
        "            nn.Linear(in_features=1280, out_features=num_classes)\n",
        "        )\n",
        "        \n",
        "    def forward(self, x):\n",
        "        x = self.features(x)\n",
        "        x = x.mean([2, 3])  # Global Average Pooling\n",
        "        x = self.classifier(x)\n",
        "        return x\n",
        "\n",
        "class CNNModel(nn.Module):\n",
        "    def __init__(self):\n",
        "        super(CNNModel, self).__init__()\n",
        "        self.name = \"cnn_model\"\n",
        "        self.conv1 = nn.Conv2d(3, 32, kernel_size=3, padding=1)\n",
        "        self.conv2 = nn.Conv2d(32, 64, kernel_size=3, padding=1)\n",
        "        self.conv3 = nn.Conv2d(64, 128, kernel_size=3, padding=1)\n",
        "        self.pool = nn.MaxPool2d(kernel_size=2, stride=2)\n",
        "        self.dropout = nn.Dropout(p=0.5)\n",
        "        self.fc1 = nn.Linear(128 * 28 * 28, 512)\n",
        "        self.fc2 = nn.Linear(512, 5)\n",
        "        \n",
        "    def forward(self, x):\n",
        "        x = self.pool(nn.functional.relu(self.conv1(x)))\n",
        "        x = self.pool(nn.functional.relu(self.conv2(x)))\n",
        "        x = self.pool(nn.functional.relu(self.conv3(x)))\n",
        "        x = x.view(-1, 128 * 28 * 28)\n",
        "        x = self.dropout(nn.functional.relu(self.fc1(x)))\n",
        "        x = self.fc2(x)\n",
        "        return x\n",
        "\n",
        "class IntegratedModel(nn.Module):\n",
        "    def __init__(self, num_classes=5):\n",
        "        super(IntegratedModel, self).__init__()\n",
        "        self.name = \"integrated_model\"\n",
        "        self.mobilenet = models.mobilenet_v2(pretrained=True)\n",
        "        self.cnn_model = CNNModel()\n",
        "        self.fc = nn.Linear(1280 + 5, num_classes) # 1280 is the output size of mobilenet's features and 5 is the output size of CNNModel's classifier\n",
        "        \n",
        "    def forward(self, x):\n",
        "        mobilenet_features = self.mobilenet.features(x)\n",
        "        mobilenet_features = mobilenet_features.mean([2, 3]) # Global Average Pooling\n",
        "        cnn_output = self.cnn_model(x)\n",
        "        combined_output = torch.cat((mobilenet_features, cnn_output), 1)\n",
        "        output = self.fc(combined_output)\n",
        "        return output"
      ],
      "metadata": {
        "id": "k_as7E2tfIh1"
      },
      "execution_count": null,
      "outputs": []
    },
    {
      "cell_type": "code",
      "source": [
        "import torchvision.models as models\n",
        "model_integrated = IntegratedModel()\n",
        "if torch.cuda.is_available():\n",
        "    model_integrated.cuda()\n",
        "train_acc_integrated, val_acc_integrated, epochs_integrated = train(model_integrated, train_loader, val_loader)\n",
        "plot_curve(train_acc_integrated, epochs_integrated, \"Training\")\n",
        "plot_curve(val_acc_integrated, epochs_integrated, \"Validation\")"
      ],
      "metadata": {
        "colab": {
          "base_uri": "https://localhost:8080/",
          "height": 1000
        },
        "id": "MNu_Z3jWfOYu",
        "outputId": "85bf8651-3e3a-4ec3-d254-5c488eefadd8"
      },
      "execution_count": null,
      "outputs": [
        {
          "output_type": "stream",
          "name": "stderr",
          "text": [
            "/usr/local/lib/python3.9/dist-packages/torchvision/models/_utils.py:208: UserWarning: The parameter 'pretrained' is deprecated since 0.13 and may be removed in the future, please use 'weights' instead.\n",
            "  warnings.warn(\n",
            "/usr/local/lib/python3.9/dist-packages/torchvision/models/_utils.py:223: UserWarning: Arguments other than a weight enum or `None` for 'weights' are deprecated since 0.13 and may be removed in the future. The current behavior is equivalent to passing `weights=MobileNet_V2_Weights.IMAGENET1K_V1`. You can also use `weights=MobileNet_V2_Weights.DEFAULT` to get the most up-to-date weights.\n",
            "  warnings.warn(msg)\n",
            "Downloading: \"https://download.pytorch.org/models/mobilenet_v2-b0353104.pth\" to /root/.cache/torch/hub/checkpoints/mobilenet_v2-b0353104.pth\n",
            "100%|██████████| 13.6M/13.6M [00:00<00:00, 93.4MB/s]\n"
          ]
        },
        {
          "output_type": "stream",
          "name": "stdout",
          "text": [
            "Training Started...\n",
            "Epoch 0: Train acc: 0.7485 |Validation acc: 0.657\n",
            "Epoch 1: Train acc: 0.8211666666666667 |Validation acc: 0.695\n",
            "Epoch 2: Train acc: 0.902 |Validation acc: 0.739\n",
            "Epoch 3: Train acc: 0.8841666666666667 |Validation acc: 0.708\n",
            "Epoch 4: Train acc: 0.9141666666666667 |Validation acc: 0.7185\n",
            "Epoch 5: Train acc: 0.9388333333333333 |Validation acc: 0.732\n",
            "Epoch 6: Train acc: 0.938 |Validation acc: 0.717\n",
            "Epoch 7: Train acc: 0.9668333333333333 |Validation acc: 0.7575\n",
            "Epoch 8: Train acc: 0.9705 |Validation acc: 0.7445\n",
            "Epoch 9: Train acc: 0.9743333333333334 |Validation acc: 0.749\n",
            "Epoch 10: Train acc: 0.9478333333333333 |Validation acc: 0.7335\n",
            "Epoch 11: Train acc: 0.971 |Validation acc: 0.752\n",
            "Epoch 12: Train acc: 0.9641666666666666 |Validation acc: 0.7405\n",
            "Epoch 13: Train acc: 0.9673333333333334 |Validation acc: 0.74\n",
            "Epoch 14: Train acc: 0.9698333333333333 |Validation acc: 0.7485\n",
            "Epoch 15: Train acc: 0.9681666666666666 |Validation acc: 0.7415\n",
            "Epoch 16: Train acc: 0.9768333333333333 |Validation acc: 0.7585\n",
            "Epoch 17: Train acc: 0.9778333333333333 |Validation acc: 0.738\n",
            "Epoch 18: Train acc: 0.9721666666666666 |Validation acc: 0.746\n",
            "Epoch 19: Train acc: 0.9755 |Validation acc: 0.7505\n",
            "Finished Training\n",
            "Total time elapsed: 7217.05 seconds\n"
          ]
        },
        {
          "output_type": "display_data",
          "data": {
            "text/plain": [
              "<Figure size 640x480 with 1 Axes>"
            ],
            "image/png": "[encoded data removed]"
          },
          "metadata": {}
        },
        {
          "output_type": "display_data",
          "data": {
            "text/plain": [
              "<Figure size 640x480 with 1 Axes>"
            ],
            "image/png": "[encoded data removed]"
          },
          "metadata": {}
        }
      ]
    },
    {
      "cell_type": "code",
      "source": [
        "import torchvision.models as models\n",
        "model_integrated = IntegratedModel()\n",
        "if torch.cuda.is_available():\n",
        "    model_integrated.cuda()\n"
      ],
      "metadata": {
        "colab": {
          "base_uri": "https://localhost:8080/"
        },
        "id": "KTZiVdFe_KvX",
        "outputId": "bbd731de-acf9-41e0-e9c9-74a5eaadac85"
      },
      "execution_count": null,
      "outputs": [
        {
          "output_type": "stream",
          "name": "stderr",
          "text": [
            "/usr/local/lib/python3.9/dist-packages/torchvision/models/_utils.py:208: UserWarning: The parameter 'pretrained' is deprecated since 0.13 and may be removed in the future, please use 'weights' instead.\n",
            "  warnings.warn(\n",
            "/usr/local/lib/python3.9/dist-packages/torchvision/models/_utils.py:223: UserWarning: Arguments other than a weight enum or `None` for 'weights' are deprecated since 0.13 and may be removed in the future. The current behavior is equivalent to passing `weights=MobileNet_V2_Weights.IMAGENET1K_V1`. You can also use `weights=MobileNet_V2_Weights.DEFAULT` to get the most up-to-date weights.\n",
            "  warnings.warn(msg)\n",
            "Downloading: \"https://download.pytorch.org/models/mobilenet_v2-b0353104.pth\" to /root/.cache/torch/hub/checkpoints/mobilenet_v2-b0353104.pth\n",
            "100%|██████████| 13.6M/13.6M [00:00<00:00, 64.4MB/s]\n"
          ]
        }
      ]
    },
    {
      "cell_type": "code",
      "source": [
        "import torchvision\n",
        "import torchvision.transforms as transforms\n",
        "import torch.utils.data\n",
        "import torchvision.datasets as datasets\n",
        "batch_size = 30;\n",
        "num_workers = 0;\n",
        "from google.colab import drive\n",
        "drive.mount('/content/gdrive')\n",
        "transform = transforms.Compose([transforms.Resize((224,224)), transforms.ToTensor()])\n",
        "\n",
        "\n",
        "geoguessr = '/content/gdrive/MyDrive/Colab Notebooks/project/geoguessr'\n",
        "new_path = geoguessr+'/test_newdata'\n",
        "new_dataset = torchvision.datasets.ImageFolder(new_path,transform=transform)\n",
        "new_loader = torch.utils.data.DataLoader(new_dataset, batch_size=batch_size, \n",
        "                                           num_workers=num_workers, shuffle=True)"
      ],
      "metadata": {
        "colab": {
          "base_uri": "https://localhost:8080/"
        },
        "id": "ltm-VulyHHgt",
        "outputId": "e6e87b37-d9b5-4de6-9620-524754af2a69"
      },
      "execution_count": null,
      "outputs": [
        {
          "output_type": "stream",
          "name": "stdout",
          "text": [
            "Drive already mounted at /content/gdrive; to attempt to forcibly remount, call drive.mount(\"/content/gdrive\", force_remount=True).\n"
          ]
        }
      ]
    },
    {
      "cell_type": "code",
      "source": [
        "def test(model, test_loader):\n",
        "    model.eval()  # Set the model to evaluation mode\n",
        "    test_accuracy = get_accuracy(model, test_loader)\n",
        "    print(f\"Test accuracy: {test_accuracy * 100:.2f}%\")\n",
        "\n",
        "# Load the best model from the training phase (replace with the actual path to the best model)\n",
        "checkpoint = torch.load('/content/gdrive/MyDrive/Colab Notebooks/project/geoguessr/junh.0005_epoch7', map_location=torch.device('cpu'))\n",
        "from collections import OrderedDict\n",
        "model_weights = OrderedDict()\n",
        "\n",
        "# Iterate through the checkpoint's keys and add them to the OrderedDict\n",
        "for key in checkpoint.keys():\n",
        "    model_weights[key] = checkpoint[key]\n",
        "\n",
        "# Load the weights into the model\n",
        "model_integrated.load_state_dict(model_weights)\n",
        "#model_state_dict = checkpoint['model_state_dict']\n",
        "#mode1l.load_state_dict(model_state_dict)\n",
        "\n",
        "# Test the model on the test set\n",
        "test(model_integrated, new_loader)"
      ],
      "metadata": {
        "id": "YMQrYMS4G082",
        "colab": {
          "base_uri": "https://localhost:8080/"
        },
        "outputId": "0be322a5-9ae4-406b-c718-13ea9082f5f3"
      },
      "execution_count": 16,
      "outputs": [
        {
          "output_type": "stream",
          "name": "stdout",
          "text": [
            "Test accuracy: 75.59%\n"
          ]
        }
      ]
    },
    {
      "cell_type": "code",
      "source": [
        "# load the saved weights\n",
        "model_integrated.load_state_dict(torch.load('/content/model_integrated_model_bs27_lr0.0005_epoch7'))\n",
        "\n",
        "# set the model to evaluation mode\n",
        "model_integrated.eval()"
      ],
      "metadata": {
        "colab": {
          "base_uri": "https://localhost:8080/"
        },
        "id": "hdyOQtnGgfqs",
        "outputId": "edd03313-61d8-4856-f211-3ac1a203b511"
      },
      "execution_count": null,
      "outputs": [
        {
          "output_type": "execute_result",
          "data": {
            "text/plain": [
              "IntegratedModel(\n",
              "  (mobilenet): MobileNetV2(\n",
              "    (features): Sequential(\n",
              "      (0): Conv2dNormActivation(\n",
              "        (0): Conv2d(3, 32, kernel_size=(3, 3), stride=(2, 2), padding=(1, 1), bias=False)\n",
              "        (1): BatchNorm2d(32, eps=1e-05, momentum=0.1, affine=True, track_running_stats=True)\n",
              "        (2): ReLU6(inplace=True)\n",
              "      )\n",
              "      (1): InvertedResidual(\n",
              "        (conv): Sequential(\n",
              "          (0): Conv2dNormActivation(\n",
              "            (0): Conv2d(32, 32, kernel_size=(3, 3), stride=(1, 1), padding=(1, 1), groups=32, bias=False)\n",
              "            (1): BatchNorm2d(32, eps=1e-05, momentum=0.1, affine=True, track_running_stats=True)\n",
              "            (2): ReLU6(inplace=True)\n",
              "          )\n",
              "          (1): Conv2d(32, 16, kernel_size=(1, 1), stride=(1, 1), bias=False)\n",
              "          (2): BatchNorm2d(16, eps=1e-05, momentum=0.1, affine=True, track_running_stats=True)\n",
              "        )\n",
              "      )\n",
              "      (2): InvertedResidual(\n",
              "        (conv): Sequential(\n",
              "          (0): Conv2dNormActivation(\n",
              "            (0): Conv2d(16, 96, kernel_size=(1, 1), stride=(1, 1), bias=False)\n",
              "            (1): BatchNorm2d(96, eps=1e-05, momentum=0.1, affine=True, track_running_stats=True)\n",
              "            (2): ReLU6(inplace=True)\n",
              "          )\n",
              "          (1): Conv2dNormActivation(\n",
              "            (0): Conv2d(96, 96, kernel_size=(3, 3), stride=(2, 2), padding=(1, 1), groups=96, bias=False)\n",
              "            (1): BatchNorm2d(96, eps=1e-05, momentum=0.1, affine=True, track_running_stats=True)\n",
              "            (2): ReLU6(inplace=True)\n",
              "          )\n",
              "          (2): Conv2d(96, 24, kernel_size=(1, 1), stride=(1, 1), bias=False)\n",
              "          (3): BatchNorm2d(24, eps=1e-05, momentum=0.1, affine=True, track_running_stats=True)\n",
              "        )\n",
              "      )\n",
              "      (3): InvertedResidual(\n",
              "        (conv): Sequential(\n",
              "          (0): Conv2dNormActivation(\n",
              "            (0): Conv2d(24, 144, kernel_size=(1, 1), stride=(1, 1), bias=False)\n",
              "            (1): BatchNorm2d(144, eps=1e-05, momentum=0.1, affine=True, track_running_stats=True)\n",
              "            (2): ReLU6(inplace=True)\n",
              "          )\n",
              "          (1): Conv2dNormActivation(\n",
              "            (0): Conv2d(144, 144, kernel_size=(3, 3), stride=(1, 1), padding=(1, 1), groups=144, bias=False)\n",
              "            (1): BatchNorm2d(144, eps=1e-05, momentum=0.1, affine=True, track_running_stats=True)\n",
              "            (2): ReLU6(inplace=True)\n",
              "          )\n",
              "          (2): Conv2d(144, 24, kernel_size=(1, 1), stride=(1, 1), bias=False)\n",
              "          (3): BatchNorm2d(24, eps=1e-05, momentum=0.1, affine=True, track_running_stats=True)\n",
              "        )\n",
              "      )\n",
              "      (4): InvertedResidual(\n",
              "        (conv): Sequential(\n",
              "          (0): Conv2dNormActivation(\n",
              "            (0): Conv2d(24, 144, kernel_size=(1, 1), stride=(1, 1), bias=False)\n",
              "            (1): BatchNorm2d(144, eps=1e-05, momentum=0.1, affine=True, track_running_stats=True)\n",
              "            (2): ReLU6(inplace=True)\n",
              "          )\n",
              "          (1): Conv2dNormActivation(\n",
              "            (0): Conv2d(144, 144, kernel_size=(3, 3), stride=(2, 2), padding=(1, 1), groups=144, bias=False)\n",
              "            (1): BatchNorm2d(144, eps=1e-05, momentum=0.1, affine=True, track_running_stats=True)\n",
              "            (2): ReLU6(inplace=True)\n",
              "          )\n",
              "          (2): Conv2d(144, 32, kernel_size=(1, 1), stride=(1, 1), bias=False)\n",
              "          (3): BatchNorm2d(32, eps=1e-05, momentum=0.1, affine=True, track_running_stats=True)\n",
              "        )\n",
              "      )\n",
              "      (5): InvertedResidual(\n",
              "        (conv): Sequential(\n",
              "          (0): Conv2dNormActivation(\n",
              "            (0): Conv2d(32, 192, kernel_size=(1, 1), stride=(1, 1), bias=False)\n",
              "            (1): BatchNorm2d(192, eps=1e-05, momentum=0.1, affine=True, track_running_stats=True)\n",
              "            (2): ReLU6(inplace=True)\n",
              "          )\n",
              "          (1): Conv2dNormActivation(\n",
              "            (0): Conv2d(192, 192, kernel_size=(3, 3), stride=(1, 1), padding=(1, 1), groups=192, bias=False)\n",
              "            (1): BatchNorm2d(192, eps=1e-05, momentum=0.1, affine=True, track_running_stats=True)\n",
              "            (2): ReLU6(inplace=True)\n",
              "          )\n",
              "          (2): Conv2d(192, 32, kernel_size=(1, 1), stride=(1, 1), bias=False)\n",
              "          (3): BatchNorm2d(32, eps=1e-05, momentum=0.1, affine=True, track_running_stats=True)\n",
              "        )\n",
              "      )\n",
              "      (6): InvertedResidual(\n",
              "        (conv): Sequential(\n",
              "          (0): Conv2dNormActivation(\n",
              "            (0): Conv2d(32, 192, kernel_size=(1, 1), stride=(1, 1), bias=False)\n",
              "            (1): BatchNorm2d(192, eps=1e-05, momentum=0.1, affine=True, track_running_stats=True)\n",
              "            (2): ReLU6(inplace=True)\n",
              "          )\n",
              "          (1): Conv2dNormActivation(\n",
              "            (0): Conv2d(192, 192, kernel_size=(3, 3), stride=(1, 1), padding=(1, 1), groups=192, bias=False)\n",
              "            (1): BatchNorm2d(192, eps=1e-05, momentum=0.1, affine=True, track_running_stats=True)\n",
              "            (2): ReLU6(inplace=True)\n",
              "          )\n",
              "          (2): Conv2d(192, 32, kernel_size=(1, 1), stride=(1, 1), bias=False)\n",
              "          (3): BatchNorm2d(32, eps=1e-05, momentum=0.1, affine=True, track_running_stats=True)\n",
              "        )\n",
              "      )\n",
              "      (7): InvertedResidual(\n",
              "        (conv): Sequential(\n",
              "          (0): Conv2dNormActivation(\n",
              "            (0): Conv2d(32, 192, kernel_size=(1, 1), stride=(1, 1), bias=False)\n",
              "            (1): BatchNorm2d(192, eps=1e-05, momentum=0.1, affine=True, track_running_stats=True)\n",
              "            (2): ReLU6(inplace=True)\n",
              "          )\n",
              "          (1): Conv2dNormActivation(\n",
              "            (0): Conv2d(192, 192, kernel_size=(3, 3), stride=(2, 2), padding=(1, 1), groups=192, bias=False)\n",
              "            (1): BatchNorm2d(192, eps=1e-05, momentum=0.1, affine=True, track_running_stats=True)\n",
              "            (2): ReLU6(inplace=True)\n",
              "          )\n",
              "          (2): Conv2d(192, 64, kernel_size=(1, 1), stride=(1, 1), bias=False)\n",
              "          (3): BatchNorm2d(64, eps=1e-05, momentum=0.1, affine=True, track_running_stats=True)\n",
              "        )\n",
              "      )\n",
              "      (8): InvertedResidual(\n",
              "        (conv): Sequential(\n",
              "          (0): Conv2dNormActivation(\n",
              "            (0): Conv2d(64, 384, kernel_size=(1, 1), stride=(1, 1), bias=False)\n",
              "            (1): BatchNorm2d(384, eps=1e-05, momentum=0.1, affine=True, track_running_stats=True)\n",
              "            (2): ReLU6(inplace=True)\n",
              "          )\n",
              "          (1): Conv2dNormActivation(\n",
              "            (0): Conv2d(384, 384, kernel_size=(3, 3), stride=(1, 1), padding=(1, 1), groups=384, bias=False)\n",
              "            (1): BatchNorm2d(384, eps=1e-05, momentum=0.1, affine=True, track_running_stats=True)\n",
              "            (2): ReLU6(inplace=True)\n",
              "          )\n",
              "          (2): Conv2d(384, 64, kernel_size=(1, 1), stride=(1, 1), bias=False)\n",
              "          (3): BatchNorm2d(64, eps=1e-05, momentum=0.1, affine=True, track_running_stats=True)\n",
              "        )\n",
              "      )\n",
              "      (9): InvertedResidual(\n",
              "        (conv): Sequential(\n",
              "          (0): Conv2dNormActivation(\n",
              "            (0): Conv2d(64, 384, kernel_size=(1, 1), stride=(1, 1), bias=False)\n",
              "            (1): BatchNorm2d(384, eps=1e-05, momentum=0.1, affine=True, track_running_stats=True)\n",
              "            (2): ReLU6(inplace=True)\n",
              "          )\n",
              "          (1): Conv2dNormActivation(\n",
              "            (0): Conv2d(384, 384, kernel_size=(3, 3), stride=(1, 1), padding=(1, 1), groups=384, bias=False)\n",
              "            (1): BatchNorm2d(384, eps=1e-05, momentum=0.1, affine=True, track_running_stats=True)\n",
              "            (2): ReLU6(inplace=True)\n",
              "          )\n",
              "          (2): Conv2d(384, 64, kernel_size=(1, 1), stride=(1, 1), bias=False)\n",
              "          (3): BatchNorm2d(64, eps=1e-05, momentum=0.1, affine=True, track_running_stats=True)\n",
              "        )\n",
              "      )\n",
              "      (10): InvertedResidual(\n",
              "        (conv): Sequential(\n",
              "          (0): Conv2dNormActivation(\n",
              "            (0): Conv2d(64, 384, kernel_size=(1, 1), stride=(1, 1), bias=False)\n",
              "            (1): BatchNorm2d(384, eps=1e-05, momentum=0.1, affine=True, track_running_stats=True)\n",
              "            (2): ReLU6(inplace=True)\n",
              "          )\n",
              "          (1): Conv2dNormActivation(\n",
              "            (0): Conv2d(384, 384, kernel_size=(3, 3), stride=(1, 1), padding=(1, 1), groups=384, bias=False)\n",
              "            (1): BatchNorm2d(384, eps=1e-05, momentum=0.1, affine=True, track_running_stats=True)\n",
              "            (2): ReLU6(inplace=True)\n",
              "          )\n",
              "          (2): Conv2d(384, 64, kernel_size=(1, 1), stride=(1, 1), bias=False)\n",
              "          (3): BatchNorm2d(64, eps=1e-05, momentum=0.1, affine=True, track_running_stats=True)\n",
              "        )\n",
              "      )\n",
              "      (11): InvertedResidual(\n",
              "        (conv): Sequential(\n",
              "          (0): Conv2dNormActivation(\n",
              "            (0): Conv2d(64, 384, kernel_size=(1, 1), stride=(1, 1), bias=False)\n",
              "            (1): BatchNorm2d(384, eps=1e-05, momentum=0.1, affine=True, track_running_stats=True)\n",
              "            (2): ReLU6(inplace=True)\n",
              "          )\n",
              "          (1): Conv2dNormActivation(\n",
              "            (0): Conv2d(384, 384, kernel_size=(3, 3), stride=(1, 1), padding=(1, 1), groups=384, bias=False)\n",
              "            (1): BatchNorm2d(384, eps=1e-05, momentum=0.1, affine=True, track_running_stats=True)\n",
              "            (2): ReLU6(inplace=True)\n",
              "          )\n",
              "          (2): Conv2d(384, 96, kernel_size=(1, 1), stride=(1, 1), bias=False)\n",
              "          (3): BatchNorm2d(96, eps=1e-05, momentum=0.1, affine=True, track_running_stats=True)\n",
              "        )\n",
              "      )\n",
              "      (12): InvertedResidual(\n",
              "        (conv): Sequential(\n",
              "          (0): Conv2dNormActivation(\n",
              "            (0): Conv2d(96, 576, kernel_size=(1, 1), stride=(1, 1), bias=False)\n",
              "            (1): BatchNorm2d(576, eps=1e-05, momentum=0.1, affine=True, track_running_stats=True)\n",
              "            (2): ReLU6(inplace=True)\n",
              "          )\n",
              "          (1): Conv2dNormActivation(\n",
              "            (0): Conv2d(576, 576, kernel_size=(3, 3), stride=(1, 1), padding=(1, 1), groups=576, bias=False)\n",
              "            (1): BatchNorm2d(576, eps=1e-05, momentum=0.1, affine=True, track_running_stats=True)\n",
              "            (2): ReLU6(inplace=True)\n",
              "          )\n",
              "          (2): Conv2d(576, 96, kernel_size=(1, 1), stride=(1, 1), bias=False)\n",
              "          (3): BatchNorm2d(96, eps=1e-05, momentum=0.1, affine=True, track_running_stats=True)\n",
              "        )\n",
              "      )\n",
              "      (13): InvertedResidual(\n",
              "        (conv): Sequential(\n",
              "          (0): Conv2dNormActivation(\n",
              "            (0): Conv2d(96, 576, kernel_size=(1, 1), stride=(1, 1), bias=False)\n",
              "            (1): BatchNorm2d(576, eps=1e-05, momentum=0.1, affine=True, track_running_stats=True)\n",
              "            (2): ReLU6(inplace=True)\n",
              "          )\n",
              "          (1): Conv2dNormActivation(\n",
              "            (0): Conv2d(576, 576, kernel_size=(3, 3), stride=(1, 1), padding=(1, 1), groups=576, bias=False)\n",
              "            (1): BatchNorm2d(576, eps=1e-05, momentum=0.1, affine=True, track_running_stats=True)\n",
              "            (2): ReLU6(inplace=True)\n",
              "          )\n",
              "          (2): Conv2d(576, 96, kernel_size=(1, 1), stride=(1, 1), bias=False)\n",
              "          (3): BatchNorm2d(96, eps=1e-05, momentum=0.1, affine=True, track_running_stats=True)\n",
              "        )\n",
              "      )\n",
              "      (14): InvertedResidual(\n",
              "        (conv): Sequential(\n",
              "          (0): Conv2dNormActivation(\n",
              "            (0): Conv2d(96, 576, kernel_size=(1, 1), stride=(1, 1), bias=False)\n",
              "            (1): BatchNorm2d(576, eps=1e-05, momentum=0.1, affine=True, track_running_stats=True)\n",
              "            (2): ReLU6(inplace=True)\n",
              "          )\n",
              "          (1): Conv2dNormActivation(\n",
              "            (0): Conv2d(576, 576, kernel_size=(3, 3), stride=(2, 2), padding=(1, 1), groups=576, bias=False)\n",
              "            (1): BatchNorm2d(576, eps=1e-05, momentum=0.1, affine=True, track_running_stats=True)\n",
              "            (2): ReLU6(inplace=True)\n",
              "          )\n",
              "          (2): Conv2d(576, 160, kernel_size=(1, 1), stride=(1, 1), bias=False)\n",
              "          (3): BatchNorm2d(160, eps=1e-05, momentum=0.1, affine=True, track_running_stats=True)\n",
              "        )\n",
              "      )\n",
              "      (15): InvertedResidual(\n",
              "        (conv): Sequential(\n",
              "          (0): Conv2dNormActivation(\n",
              "            (0): Conv2d(160, 960, kernel_size=(1, 1), stride=(1, 1), bias=False)\n",
              "            (1): BatchNorm2d(960, eps=1e-05, momentum=0.1, affine=True, track_running_stats=True)\n",
              "            (2): ReLU6(inplace=True)\n",
              "          )\n",
              "          (1): Conv2dNormActivation(\n",
              "            (0): Conv2d(960, 960, kernel_size=(3, 3), stride=(1, 1), padding=(1, 1), groups=960, bias=False)\n",
              "            (1): BatchNorm2d(960, eps=1e-05, momentum=0.1, affine=True, track_running_stats=True)\n",
              "            (2): ReLU6(inplace=True)\n",
              "          )\n",
              "          (2): Conv2d(960, 160, kernel_size=(1, 1), stride=(1, 1), bias=False)\n",
              "          (3): BatchNorm2d(160, eps=1e-05, momentum=0.1, affine=True, track_running_stats=True)\n",
              "        )\n",
              "      )\n",
              "      (16): InvertedResidual(\n",
              "        (conv): Sequential(\n",
              "          (0): Conv2dNormActivation(\n",
              "            (0): Conv2d(160, 960, kernel_size=(1, 1), stride=(1, 1), bias=False)\n",
              "            (1): BatchNorm2d(960, eps=1e-05, momentum=0.1, affine=True, track_running_stats=True)\n",
              "            (2): ReLU6(inplace=True)\n",
              "          )\n",
              "          (1): Conv2dNormActivation(\n",
              "            (0): Conv2d(960, 960, kernel_size=(3, 3), stride=(1, 1), padding=(1, 1), groups=960, bias=False)\n",
              "            (1): BatchNorm2d(960, eps=1e-05, momentum=0.1, affine=True, track_running_stats=True)\n",
              "            (2): ReLU6(inplace=True)\n",
              "          )\n",
              "          (2): Conv2d(960, 160, kernel_size=(1, 1), stride=(1, 1), bias=False)\n",
              "          (3): BatchNorm2d(160, eps=1e-05, momentum=0.1, affine=True, track_running_stats=True)\n",
              "        )\n",
              "      )\n",
              "      (17): InvertedResidual(\n",
              "        (conv): Sequential(\n",
              "          (0): Conv2dNormActivation(\n",
              "            (0): Conv2d(160, 960, kernel_size=(1, 1), stride=(1, 1), bias=False)\n",
              "            (1): BatchNorm2d(960, eps=1e-05, momentum=0.1, affine=True, track_running_stats=True)\n",
              "            (2): ReLU6(inplace=True)\n",
              "          )\n",
              "          (1): Conv2dNormActivation(\n",
              "            (0): Conv2d(960, 960, kernel_size=(3, 3), stride=(1, 1), padding=(1, 1), groups=960, bias=False)\n",
              "            (1): BatchNorm2d(960, eps=1e-05, momentum=0.1, affine=True, track_running_stats=True)\n",
              "            (2): ReLU6(inplace=True)\n",
              "          )\n",
              "          (2): Conv2d(960, 320, kernel_size=(1, 1), stride=(1, 1), bias=False)\n",
              "          (3): BatchNorm2d(320, eps=1e-05, momentum=0.1, affine=True, track_running_stats=True)\n",
              "        )\n",
              "      )\n",
              "      (18): Conv2dNormActivation(\n",
              "        (0): Conv2d(320, 1280, kernel_size=(1, 1), stride=(1, 1), bias=False)\n",
              "        (1): BatchNorm2d(1280, eps=1e-05, momentum=0.1, affine=True, track_running_stats=True)\n",
              "        (2): ReLU6(inplace=True)\n",
              "      )\n",
              "    )\n",
              "    (classifier): Sequential(\n",
              "      (0): Dropout(p=0.2, inplace=False)\n",
              "      (1): Linear(in_features=1280, out_features=1000, bias=True)\n",
              "    )\n",
              "  )\n",
              "  (cnn_model): CNNModel(\n",
              "    (conv1): Conv2d(3, 32, kernel_size=(3, 3), stride=(1, 1), padding=(1, 1))\n",
              "    (conv2): Conv2d(32, 64, kernel_size=(3, 3), stride=(1, 1), padding=(1, 1))\n",
              "    (conv3): Conv2d(64, 128, kernel_size=(3, 3), stride=(1, 1), padding=(1, 1))\n",
              "    (pool): MaxPool2d(kernel_size=2, stride=2, padding=0, dilation=1, ceil_mode=False)\n",
              "    (dropout): Dropout(p=0.5, inplace=False)\n",
              "    (fc1): Linear(in_features=100352, out_features=512, bias=True)\n",
              "    (fc2): Linear(in_features=512, out_features=5, bias=True)\n",
              "  )\n",
              "  (fc): Linear(in_features=1285, out_features=5, bias=True)\n",
              ")"
            ]
          },
          "metadata": {},
          "execution_count": 21
        }
      ]
    }
  ]
}